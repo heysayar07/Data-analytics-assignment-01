{
  "nbformat": 4,
  "nbformat_minor": 0,
  "metadata": {
    "colab": {
      "provenance": []
    },
    "kernelspec": {
      "name": "python3",
      "display_name": "Python 3"
    },
    "language_info": {
      "name": "python"
    }
  },
  "cells": [
    {
      "cell_type": "markdown",
      "source": [
        "#Python\n"
      ],
      "metadata": {
        "id": "_Md42z-Rm_sx"
      }
    },
    {
      "cell_type": "markdown",
      "source": [
        "1. What is Python, and why is it popular?\n",
        "\n",
        "    -> Python is a high-level, interpreted, and general-purpose programming language known for its simplicity, readability, and versatility.\n",
        "\n",
        "Python has an extensive collection of libraries and frameworks like NumPy,\n",
        "pandas, TensorFlow, Flask, Django, and PyTorch, which simplify development.\n",
        "Large Community Support:\n",
        "\n",
        "Python has a massive and active developer community that provides support, tutorials, and contributions to its ecosystem.\n",
        "Cross-Platform Compatibility:\n",
        "\n",
        "Python runs seamlessly on various platforms, including Windows, macOS, and Linux, ensuring developers can work in their preferred environments.\n",
        "Integration Capabilities:\n",
        "\n",
        "Python integrates well with other languages (e.g., C/C++, Java) and tools, making it suitable for hybrid and legacy systems.\n",
        "Applications in Trending Fields:\n",
        "\n",
        "Python is widely used in data science, machine learning, AI, and web development, which are highly in demand.\n",
        "\n"
      ],
      "metadata": {
        "id": "PvqU0z4XnLxW"
      }
    },
    {
      "cell_type": "markdown",
      "source": [
        "2. What is an interpreter in Python?\n",
        "   \n",
        "   -> An interpreter in Python is a program that executes Python code line by line. Instead of compiling the entire code into machine language (like a compiler does), the interpreter processes each line, translates it into an intermediate form, and executes it immediately.\n",
        "\n",
        "3. What are pre-defined keywords in Python?\n",
        "\n",
        "   -> Pre-defined keywords in Python are reserved words that have specific meanings and purposes in the language. These keywords are part of Python's syntax and cannot be used as identifiers (e.g., variable names, function names, or class names)."
      ],
      "metadata": {
        "id": "6rBTCAmqnP0v"
      }
    },
    {
      "cell_type": "code",
      "source": [
        "#True is a pre-define keyword in pythone whose value is 1\n",
        "#That Represents the boolean value.\n",
        "True\n"
      ],
      "metadata": {
        "colab": {
          "base_uri": "https://localhost:8080/"
        },
        "id": "hYwv6SFkoH2q",
        "outputId": "ad11b29f-7fa7-44af-d52c-f33f3ad8c499"
      },
      "execution_count": 3,
      "outputs": [
        {
          "output_type": "execute_result",
          "data": {
            "text/plain": [
              "True"
            ]
          },
          "metadata": {},
          "execution_count": 3
        }
      ]
    },
    {
      "cell_type": "markdown",
      "source": [
        "4. Can keywords be used as variable names?\n",
        "\n",
        "  ->No, keywords cannot be used as variable names in Python. Keywords are reserved words with special meanings in Python’s syntax, and using them as variable names will result in a syntax error.\n",
        "  "
      ],
      "metadata": {
        "id": "i3F5d-fko6ih"
      }
    },
    {
      "cell_type": "code",
      "source": [
        "if = 5\n"
      ],
      "metadata": {
        "colab": {
          "base_uri": "https://localhost:8080/",
          "height": 106
        },
        "id": "Ao6Ot9QopPxX",
        "outputId": "cd9d6c84-3e88-454e-fbd8-a810f74be6df"
      },
      "execution_count": 6,
      "outputs": [
        {
          "output_type": "error",
          "ename": "SyntaxError",
          "evalue": "invalid syntax (<ipython-input-6-1a9bb92cc795>, line 1)",
          "traceback": [
            "\u001b[0;36m  File \u001b[0;32m\"<ipython-input-6-1a9bb92cc795>\"\u001b[0;36m, line \u001b[0;32m1\u001b[0m\n\u001b[0;31m    if = 5\u001b[0m\n\u001b[0m       ^\u001b[0m\n\u001b[0;31mSyntaxError\u001b[0m\u001b[0;31m:\u001b[0m invalid syntax\n"
          ]
        }
      ]
    },
    {
      "cell_type": "markdown",
      "source": [
        "5. What is mutability in Python?\n",
        "\n",
        "   -> Mutability in Python refers to whether or not an object’s state (its data or attributes) can be changed after it has been created. Based on mutability, Python objects are classified into two categories:\n",
        "\n",
        "*Mutable Objects: Their state can be modified after creation.\n",
        "\n",
        "*Immutable Objects: Their state cannot be changed after creation.\n",
        "\n",
        "\n",
        "6. Why Are Lists Mutable?\n",
        "\n",
        "    -> # Intended Use:\n",
        "\n",
        "    Lists are designed to store collections of items that might need to change frequently (e.g., adding, removing, or modifying elements).\n",
        "    Mutability allows for efficient in-place modifications, making lists versatile and suitable for dynamic data structures.\n",
        "\n",
        "    #Performance Considerations:\n",
        "\n",
        "    Since lists are mutable, operations like appending or modifying elements do not create a new object. Instead, changes are applied to the existing object, which is more memory-efficient for large, frequently updated datasets."
      ],
      "metadata": {
        "id": "BKYls8ETpm9X"
      }
    },
    {
      "cell_type": "markdown",
      "source": [
        "7. What is the difference between “==” and “is” operators in Python?\n",
        "\n",
        "  -> The == and is operators in Python are used for comparisons, but they have distinct purposes and behaviors:\n",
        "\n",
        "== Operator (Equality Operator)\n",
        "The == operator checks whether the values of two objects are equal, regardless of whether they are the same object in memory.\n",
        "It uses the __eq__ method internally to compare the contents of the objects.\n",
        "\n"
      ],
      "metadata": {
        "id": "zD5p4z2PrsRj"
      }
    },
    {
      "cell_type": "code",
      "source": [
        "a = [1, 2, 3]\n",
        "b = [1, 2, 3]\n",
        "\n",
        "print(a == b)  # Output: True (The contents of `a` and `b` are the same)\n"
      ],
      "metadata": {
        "colab": {
          "base_uri": "https://localhost:8080/"
        },
        "id": "Z7T2Pynys4YQ",
        "outputId": "86becb6e-2f4d-4cf7-9461-1bb7ada1bcf2"
      },
      "execution_count": 7,
      "outputs": [
        {
          "output_type": "stream",
          "name": "stdout",
          "text": [
            "True\n"
          ]
        }
      ]
    },
    {
      "cell_type": "markdown",
      "source": [
        "is Operator (Identity Operator)\n",
        "The is operator checks whether two objects refer to the same memory location (i.e., whether they are the same object).\n",
        "It does not compare the contents of the objects, only their identity"
      ],
      "metadata": {
        "id": "3MY4DZnhs8Yj"
      }
    },
    {
      "cell_type": "code",
      "source": [
        "a = [1, 2, 3]\n",
        "b = [1, 2, 3]\n",
        "\n",
        "print(a is b)  # Output: False (They are different objects in memory)\n"
      ],
      "metadata": {
        "colab": {
          "base_uri": "https://localhost:8080/"
        },
        "id": "be_KGxcq0GPu",
        "outputId": "c8de2d20-5936-48e2-d3a2-6463cf186478"
      },
      "execution_count": 8,
      "outputs": [
        {
          "output_type": "stream",
          "name": "stdout",
          "text": [
            "False\n"
          ]
        }
      ]
    },
    {
      "cell_type": "markdown",
      "source": [
        "8. What are logical operators in Python?\n",
        "\n",
        "  -> Logical Operators in Python\n",
        "Logical operators in Python are used to perform logical operations on boolean values (True or False). They help in making decisions by combining multiple conditions or expressions.\n",
        "\n",
        "Python provides three logical operators:\n",
        "\n",
        "1. and Operator\n",
        "2. or Operator\n",
        "3. not Operator\n",
        "\n",
        "\n",
        "9. What is type casting in Python?\n",
        "\n",
        "  -> Type casting in Python is the process of converting one data type into another. Python provides built-in functions to achieve this, enabling programmers to manipulate data in a desired format. This is especially useful when working with user inputs, arithmetic operations, or data from external sources.\n",
        "\n",
        "10. What is the difference between implicit and explicit type casting?\n",
        "\n",
        "  -> Type casting refers to converting a value from one data type to another. The two main types of type casting in Python are implicit and explicit type casting. Here's how they differ:\n",
        "\n",
        "  1. Implicit Type Casting: Python automatically converts one data type to another without requiring explicit instructions from the programmer.\n",
        "\n",
        "  2. Explicit Type Casting: The programmer explicitly converts a value from one type to another using Python's built-in type conversion functions.\n",
        "\n",
        "11.  What is the purpose of conditional statements in Python?\n",
        "\n",
        "  -> Conditional statements in Python are used to perform different actions based on different conditions. They allow the program to make decisions and control the flow of execution. The core purpose is to enable your program to react to varying inputs or situations dynamically, ensuring that different paths are taken based on the values or states of certain variables.\n",
        "\n",
        "  #Key Purposes of Conditional Statements:\n",
        "  *Decision Making\n",
        "  *Control Flow\n",
        "  *Handling Multiple Scenarios\n",
        "  *Enabling Dynamic Behavior\n",
        "\n",
        "\n",
        "12. How does the elif statement work?\n",
        "\n",
        "  -> How the elif Statement Works in Python\n",
        "The elif (short for \"else if\") statement in Python is used to check multiple conditions in a sequence. It allows you to specify additional conditions to be checked if the preceding if condition(s) are not met. If the condition in the elif statement evaluates to True, the block of code under it will execute, and the program will skip the remaining conditions.\n",
        "\n",
        "13. What is the difference between for and while loops?\n",
        "\n",
        "  -> Both for and while loops are used to execute a block of code repeatedly. However, the way they work and the situations in which they are used differ.\n",
        "\n",
        "   #Syntax and Structure\n",
        "   #for Loop:\n",
        "The for loop is used when the number of iterations is known beforehand or when you are iterating over a sequence (such as a list, string, tuple, or range).\n",
        "It works by iterating over each element in a sequence or an iterable object.\n",
        "   #while Loop:\n",
        "The while loop runs as long as a given condition is True. It is commonly used when the number of iterations is not known ahead of time, and the loop continues until the condition becomes False.\n",
        "\n",
        "14. Describe a scenario where a while loop is more suitable than a for loop.\n",
        "\n",
        "  -> A while loop is more suitable when you need to continuously ask for user input until the input meets certain criteria. This is a perfect use case where the number of iterations is unknown in advance, and you need to keep looping as long as the input is invalid.\n",
        "\n",
        "  Example: Validating a User's Age Input\n",
        "Imagine you're writing a program where you need the user to input their age, but you only want them to proceed if the input is a valid, positive integer. The loop should continue to prompt the user until they provide a valid input.\n",
        "\n",
        "Here, the while loop is the most appropriate choice because you can't know how many times the user will need to be prompted.\n",
        "\n",
        "\n"
      ],
      "metadata": {
        "id": "nY3bgAJJ0LdR"
      }
    },
    {
      "cell_type": "code",
      "source": [
        "while True:\n",
        "    age = input(\"Please enter your age: \")\n",
        "\n",
        "    # Check if the input is a valid number and greater than 0\n",
        "    if age.isdigit() and int(age) > 0:\n",
        "        print(f\"Your age is {age}. Thank you!\")\n",
        "        break  # Exit the loop if the input is valid\n",
        "    else:\n",
        "        print(\"Invalid input. Please enter a positive integer.\")\n"
      ],
      "metadata": {
        "colab": {
          "base_uri": "https://localhost:8080/"
        },
        "id": "H3yydUl2DiVw",
        "outputId": "d720a07f-547c-4308-d0cb-c0ffb9a81a58"
      },
      "execution_count": 9,
      "outputs": [
        {
          "output_type": "stream",
          "name": "stdout",
          "text": [
            "Please enter your age: 19\n",
            "Your age is 19. Thank you!\n"
          ]
        }
      ]
    },
    {
      "cell_type": "markdown",
      "source": [
        "#Practical Questions\n",
        "\n",
        "1. Write a Python program to print \"Hello, World!\"\n"
      ],
      "metadata": {
        "id": "fvHsaoj9Ds1V"
      }
    },
    {
      "cell_type": "code",
      "source": [
        "print(\"Hello, World!\")\n"
      ],
      "metadata": {
        "colab": {
          "base_uri": "https://localhost:8080/"
        },
        "id": "o9gV-6s1D5M7",
        "outputId": "678d1711-21db-4354-f152-cb5a4e74fafe"
      },
      "execution_count": 14,
      "outputs": [
        {
          "output_type": "stream",
          "name": "stdout",
          "text": [
            "Hello, World!\n"
          ]
        }
      ]
    },
    {
      "cell_type": "markdown",
      "source": [
        "2. Write a Python program that displays your name and age."
      ],
      "metadata": {
        "id": "EPJagHCvEPlY"
      }
    },
    {
      "cell_type": "code",
      "source": [
        "# Assigning name and age to variables\n",
        "name = \"Jeet\"\n",
        "age = 19\n",
        "\n",
        "# Displaying the name and age\n",
        "print(\"Name:\", name)\n",
        "print(\"Age:\", age)\n"
      ],
      "metadata": {
        "colab": {
          "base_uri": "https://localhost:8080/"
        },
        "id": "wQA5XOUTEV0s",
        "outputId": "6786d78f-8dc7-4392-9ebc-c9f1174b7a6a"
      },
      "execution_count": 15,
      "outputs": [
        {
          "output_type": "stream",
          "name": "stdout",
          "text": [
            "Name: Jeet\n",
            "Age: 19\n"
          ]
        }
      ]
    },
    {
      "cell_type": "markdown",
      "source": [
        "3. Write code to print all the pre-defined keywords in Python using the keyword library"
      ],
      "metadata": {
        "id": "PIaJmJhpEluQ"
      }
    },
    {
      "cell_type": "code",
      "source": [
        "import keyword\n",
        "\n",
        "print(keyword.kwlist)"
      ],
      "metadata": {
        "colab": {
          "base_uri": "https://localhost:8080/"
        },
        "id": "9bo9dbFSF1KA",
        "outputId": "ecfbbcdb-c397-4e83-f17a-b11f61f9f43b"
      },
      "execution_count": 20,
      "outputs": [
        {
          "output_type": "stream",
          "name": "stdout",
          "text": [
            "['False', 'None', 'True', 'and', 'as', 'assert', 'async', 'await', 'break', 'class', 'continue', 'def', 'del', 'elif', 'else', 'except', 'finally', 'for', 'from', 'global', 'if', 'import', 'in', 'is', 'lambda', 'nonlocal', 'not', 'or', 'pass', 'raise', 'return', 'try', 'while', 'with', 'yield']\n"
          ]
        }
      ]
    },
    {
      "cell_type": "markdown",
      "source": [
        "4. Write a program that checks if a given word is a Python keyword.\n"
      ],
      "metadata": {
        "id": "B5quG6qPGcFd"
      }
    },
    {
      "cell_type": "code",
      "source": [
        "if True and keyword.iskeyword(\"True\"):\n",
        "    print(\"'True' is a Python keyword.\")\n",
        "else:\n",
        "    print(\"'True' is not a Python keyword.\")\n",
        "    print(\"'True' is not a Python keyword.\")"
      ],
      "metadata": {
        "colab": {
          "base_uri": "https://localhost:8080/"
        },
        "id": "1vdBNjLCGjWq",
        "outputId": "8a840571-304b-49bd-9485-fd4a24cdf9fd"
      },
      "execution_count": 23,
      "outputs": [
        {
          "output_type": "stream",
          "name": "stdout",
          "text": [
            "'True' is a Python keyword.\n"
          ]
        }
      ]
    },
    {
      "cell_type": "markdown",
      "source": [
        "5. Create a list and tuple in Python, and demonstrate how attempting to change an element works differently\n",
        "for each."
      ],
      "metadata": {
        "id": "a_oN8kPaG951"
      }
    },
    {
      "cell_type": "code",
      "source": [
        "# Create a list and a tuple\n",
        "my_list = [1, 2, 3, 4, 5]\n",
        "my_tuple = (1, 2, 3, 4, 5)\n",
        "\n",
        "# Attempt to change an element in the list\n",
        "print(\"Original list:\", my_list)\n",
        "my_list[2] = 99  # Changing the third element (index 2)\n",
        "print(\"List after modification:\", my_list)\n",
        "\n",
        "# Attempt to change an element in the tuple\n",
        "print(\"\\nOriginal tuple:\", my_tuple)\n",
        "try:\n",
        "    my_tuple[2] = 99  # Attempting to change the third element (index 2)\n",
        "except TypeError as e:\n",
        "    print(f\"Error when modifying tuple: {e}\")\n"
      ],
      "metadata": {
        "colab": {
          "base_uri": "https://localhost:8080/"
        },
        "id": "Jj82wuBoHDuN",
        "outputId": "46f45e29-a379-4b3c-9c4f-5af52fc8c325"
      },
      "execution_count": 24,
      "outputs": [
        {
          "output_type": "stream",
          "name": "stdout",
          "text": [
            "Original list: [1, 2, 3, 4, 5]\n",
            "List after modification: [1, 2, 99, 4, 5]\n",
            "\n",
            "Original tuple: (1, 2, 3, 4, 5)\n",
            "Error when modifying tuple: 'tuple' object does not support item assignment\n"
          ]
        }
      ]
    },
    {
      "cell_type": "markdown",
      "source": [
        "6. Write a function to demonstrate the behavior of mutable and immutable arguments."
      ],
      "metadata": {
        "id": "q6LRSD3gHMjo"
      }
    },
    {
      "cell_type": "code",
      "source": [
        "def demonstrate_mutability(arg1, arg2):\n",
        "    # Modify the mutable argument (list)\n",
        "    print(\"Before modification (mutable argument):\", arg1)\n",
        "    arg1.append(100)  # Modifying the list (mutable argument)\n",
        "    print(\"After modification (mutable argument):\", arg1)\n",
        "\n",
        "    # Modify the immutable argument (int)\n",
        "    print(\"Before modification (immutable argument):\", arg2)\n",
        "    arg2 += 10  # Trying to modify the integer (immutable argument)\n",
        "    print(\"After modification (immutable argument):\", arg2)\n",
        "\n",
        "\n",
        "# Create a mutable argument (list) and an immutable argument (int)\n",
        "mutable_arg = [1, 2, 3]\n",
        "immutable_arg = 5\n",
        "\n",
        "# Call the function\n",
        "demonstrate_mutability(mutable_arg, immutable_arg)\n",
        "\n",
        "# Print the final values outside the function\n",
        "print(\"\\nFinal value of mutable argument:\", mutable_arg)\n",
        "print(\"Final value of immutable argument:\", immutable_arg)\n"
      ],
      "metadata": {
        "colab": {
          "base_uri": "https://localhost:8080/"
        },
        "id": "x_SAgDBXHQdU",
        "outputId": "c8fc93ca-910d-460c-cb6b-592b2cd55ad2"
      },
      "execution_count": 25,
      "outputs": [
        {
          "output_type": "stream",
          "name": "stdout",
          "text": [
            "Before modification (mutable argument): [1, 2, 3]\n",
            "After modification (mutable argument): [1, 2, 3, 100]\n",
            "Before modification (immutable argument): 5\n",
            "After modification (immutable argument): 15\n",
            "\n",
            "Final value of mutable argument: [1, 2, 3, 100]\n",
            "Final value of immutable argument: 5\n"
          ]
        }
      ]
    },
    {
      "cell_type": "markdown",
      "source": [
        "7.  Write a function to demonstrate the behavior of mutable and immutable arguments"
      ],
      "metadata": {
        "id": "VTRmTG_9HYv-"
      }
    },
    {
      "cell_type": "code",
      "source": [
        "def demonstrate_mutability(mutable_arg, immutable_arg):\n",
        "    # Modify the mutable argument (list)\n",
        "    print(\"Before modification (mutable argument):\", mutable_arg)\n",
        "    mutable_arg.append(100)  # Modify the mutable argument (list)\n",
        "    print(\"After modification (mutable argument):\", mutable_arg)\n",
        "\n",
        "    # Modify the immutable argument (integer)\n",
        "    print(\"Before modification (immutable argument):\", immutable_arg)\n",
        "    immutable_arg += 10  # Modify the immutable argument (integer)\n",
        "    print(\"After modification (immutable argument):\", immutable_arg)\n",
        "\n",
        "\n",
        "# Create a mutable argument (list) and an immutable argument (int)\n",
        "mutable_list = [1, 2, 3]\n",
        "immutable_int = 5\n",
        "\n",
        "# Call the function\n",
        "demonstrate_mutability(mutable_list, immutable_int)\n",
        "\n",
        "# Print the final values outside the function\n",
        "print(\"\\nFinal value of mutable argument:\", mutable_list)\n",
        "print(\"Final value of immutable argument:\", immutable_int)\n"
      ],
      "metadata": {
        "colab": {
          "base_uri": "https://localhost:8080/"
        },
        "id": "_X_re2CRHfjx",
        "outputId": "b4d5dc1b-88d3-4a5c-ffa6-c8ca4a6dcdb7"
      },
      "execution_count": 26,
      "outputs": [
        {
          "output_type": "stream",
          "name": "stdout",
          "text": [
            "Before modification (mutable argument): [1, 2, 3]\n",
            "After modification (mutable argument): [1, 2, 3, 100]\n",
            "Before modification (immutable argument): 5\n",
            "After modification (immutable argument): 15\n",
            "\n",
            "Final value of mutable argument: [1, 2, 3, 100]\n",
            "Final value of immutable argument: 5\n"
          ]
        }
      ]
    },
    {
      "cell_type": "markdown",
      "source": [
        "8. Write a program to demonstrate the use of logical operators."
      ],
      "metadata": {
        "id": "RnbfNGBFHnj6"
      }
    },
    {
      "cell_type": "code",
      "source": [
        "# Define two boolean variables\n",
        "a = True\n",
        "b = False\n",
        "\n",
        "# Using the 'and' operator\n",
        "print(\"Using 'and' operator:\")\n",
        "print(f\"a and b: {a and b}\")  # Returns True if both a and b are True, otherwise False\n",
        "\n",
        "# Using the 'or' operator\n",
        "print(\"\\nUsing 'or' operator:\")\n",
        "print(f\"a or b: {a or b}\")    # Returns True if at least one of a or b is True\n",
        "\n",
        "# Using the 'not' operator\n",
        "print(\"\\nUsing 'not' operator:\")\n",
        "print(f\"not a: {not a}\")      # Returns the opposite boolean value of a\n",
        "print(f\"not b: {not b}\")      # Returns the opposite boolean value of b\n"
      ],
      "metadata": {
        "colab": {
          "base_uri": "https://localhost:8080/"
        },
        "id": "wEkXefIyHr0P",
        "outputId": "1f5d37b4-be4a-4df9-a24e-87fb7a600594"
      },
      "execution_count": 27,
      "outputs": [
        {
          "output_type": "stream",
          "name": "stdout",
          "text": [
            "Using 'and' operator:\n",
            "a and b: False\n",
            "\n",
            "Using 'or' operator:\n",
            "a or b: True\n",
            "\n",
            "Using 'not' operator:\n",
            "not a: False\n",
            "not b: True\n"
          ]
        }
      ]
    },
    {
      "cell_type": "markdown",
      "source": [
        "9. Write a Python program to convert user input from string to integer, float, and boolean types.\n"
      ],
      "metadata": {
        "id": "9ED6IwPsMjik"
      }
    },
    {
      "cell_type": "code",
      "source": [
        "# Take user input as a string\n",
        "user_input = input(\"Enter a value: \")\n",
        "\n",
        "# Convert the input to different types\n",
        "int_value = int(user_input) if user_input.isdigit() else None\n",
        "float_value = float(user_input) if user_input.replace('.', '', 1).isdigit() else None\n",
        "bool_value = user_input.lower() in ['true', '1']\n",
        "\n",
        "# Display the converted values\n",
        "print(\"\\nConverted values:\")\n",
        "print(f\"Integer: {int_value}\")\n",
        "print(f\"Float: {float_value}\")\n",
        "print(f\"Boolean: {bool_value}\")\n"
      ],
      "metadata": {
        "colab": {
          "base_uri": "https://localhost:8080/"
        },
        "id": "RpVQqvfVNSRT",
        "outputId": "11615df4-e013-448c-ef5c-ae5592f33f21"
      },
      "execution_count": 28,
      "outputs": [
        {
          "output_type": "stream",
          "name": "stdout",
          "text": [
            "Enter a value: 5\n",
            "\n",
            "Converted values:\n",
            "Integer: 5\n",
            "Float: 5.0\n",
            "Boolean: False\n"
          ]
        }
      ]
    },
    {
      "cell_type": "markdown",
      "source": [
        "10. Write code to demonstrate type casting with list elements."
      ],
      "metadata": {
        "id": "yoEGO2HYNaLy"
      }
    },
    {
      "cell_type": "code",
      "source": [
        "\n",
        "\n",
        "# Create a list with elements of different types\n",
        "my_list = [10, \"20\", 30.5, \"40.7\", True, \"False\"]\n",
        "\n",
        "# Type casting each element to a specific type\n",
        "casted_list = []\n",
        "for element in my_list:\n",
        "    try:\n",
        "        # Attempt to cast to integer\n",
        "        casted_list.append(int(element))\n",
        "    except (ValueError, TypeError):\n",
        "        try:\n",
        "            # If integer casting fails, attempt float casting\n",
        "            casted_list.append(float(element))\n",
        "        except (ValueError, TypeError):\n",
        "            try:\n",
        "                # If both integer and float casting fail, attempt boolean casting\n",
        "                casted_list.append(bool(element))\n",
        "            except (ValueError, TypeError):\n",
        "                # If all casting attempts fail, keep the original element\n",
        "                casted_list.append(element)\n",
        "\n",
        "print(f\"Original list : {my_list}\")\n",
        "print(f\"Casted list : {casted_list}\")"
      ],
      "metadata": {
        "colab": {
          "base_uri": "https://localhost:8080/"
        },
        "id": "50U-h_IYNe53",
        "outputId": "28e62221-05b5-4f1a-dee4-fe136d68c89d"
      },
      "execution_count": 30,
      "outputs": [
        {
          "output_type": "stream",
          "name": "stdout",
          "text": [
            "Original list : [10, '20', 30.5, '40.7', True, 'False']\n",
            "Casted list : [10, 20, 30, 40.7, 1, True]\n"
          ]
        }
      ]
    },
    {
      "cell_type": "markdown",
      "source": [
        "11. Write a program that checks if a number is positive, negative, or zero.\n"
      ],
      "metadata": {
        "id": "TmK1iPjMNmpu"
      }
    },
    {
      "cell_type": "code",
      "source": [
        "\n",
        "\n",
        "def check_number(number):\n",
        "    if number > 0:\n",
        "        return \"Positive\"\n",
        "    elif number < 0:\n",
        "        return \"Negative\"\n",
        "    else:\n",
        "        return \"Zero\"\n",
        "\n",
        "# Example usage\n",
        "number = 10\n",
        "result = check_number(number)\n",
        "print(f\"The number {number} is {result}\")\n",
        "\n",
        "number = -5\n",
        "result = check_number(number)\n",
        "print(f\"The number {number} is {result}\")\n",
        "\n",
        "number = 0\n",
        "result = check_number(number)\n",
        "print(f\"The number {number} is {result}\")"
      ],
      "metadata": {
        "colab": {
          "base_uri": "https://localhost:8080/"
        },
        "id": "yYQMhGrkNqLC",
        "outputId": "8c67cb32-054b-4518-85c1-96852fa5b4af"
      },
      "execution_count": 31,
      "outputs": [
        {
          "output_type": "stream",
          "name": "stdout",
          "text": [
            "The number 10 is Positive\n",
            "The number -5 is Negative\n",
            "The number 0 is Zero\n"
          ]
        }
      ]
    },
    {
      "cell_type": "markdown",
      "source": [
        " 12.  Write a for loop to print numbers from 1 to 10."
      ],
      "metadata": {
        "id": "STHDRpAxN4T0"
      }
    },
    {
      "cell_type": "code",
      "source": [
        "for i in range(1, 11):\n",
        "    print(i) # Indented this line to be inside the for loop"
      ],
      "metadata": {
        "colab": {
          "base_uri": "https://localhost:8080/"
        },
        "id": "nda6-UnzN8bd",
        "outputId": "8bbdb4d6-9591-4552-8e21-3ab2676855eb"
      },
      "execution_count": 33,
      "outputs": [
        {
          "output_type": "stream",
          "name": "stdout",
          "text": [
            "1\n",
            "2\n",
            "3\n",
            "4\n",
            "5\n",
            "6\n",
            "7\n",
            "8\n",
            "9\n",
            "10\n"
          ]
        }
      ]
    },
    {
      "cell_type": "markdown",
      "source": [
        "13. Write a Python program to find the sum of all even numbers between 1 and 50."
      ],
      "metadata": {
        "id": "LxTBrnSaOIMR"
      }
    },
    {
      "cell_type": "code",
      "source": [
        "for i in range(1, 50):\n",
        "    print (i)"
      ],
      "metadata": {
        "colab": {
          "base_uri": "https://localhost:8080/"
        },
        "id": "Ro_AGiI0OUw-",
        "outputId": "ba33fa2a-65fc-4c6c-aa3f-48868660504c"
      },
      "execution_count": 34,
      "outputs": [
        {
          "output_type": "stream",
          "name": "stdout",
          "text": [
            "1\n",
            "2\n",
            "3\n",
            "4\n",
            "5\n",
            "6\n",
            "7\n",
            "8\n",
            "9\n",
            "10\n",
            "11\n",
            "12\n",
            "13\n",
            "14\n",
            "15\n",
            "16\n",
            "17\n",
            "18\n",
            "19\n",
            "20\n",
            "21\n",
            "22\n",
            "23\n",
            "24\n",
            "25\n",
            "26\n",
            "27\n",
            "28\n",
            "29\n",
            "30\n",
            "31\n",
            "32\n",
            "33\n",
            "34\n",
            "35\n",
            "36\n",
            "37\n",
            "38\n",
            "39\n",
            "40\n",
            "41\n",
            "42\n",
            "43\n",
            "44\n",
            "45\n",
            "46\n",
            "47\n",
            "48\n",
            "49\n"
          ]
        }
      ]
    },
    {
      "cell_type": "markdown",
      "source": [
        "14. Write a program to reverse a string using a while loop."
      ],
      "metadata": {
        "id": "KP8Ne7WZO6Ej"
      }
    },
    {
      "cell_type": "code",
      "source": [
        "# Function to reverse a string using a while loop\n",
        "def reverse_string(input_string):\n",
        "    reversed_string = \"\"\n",
        "    index = len(input_string) - 1  # Start from the last character\n",
        "\n",
        "    # While loop to iterate through the string in reverse\n",
        "    while index >= 0:\n",
        "        reversed_string += input_string[index]  # Append each character to reversed_string\n",
        "        index -= 1  # Move to the previous character\n",
        "\n",
        "    return reversed_string\n",
        "\n",
        "# Take input from the user\n",
        "user_input = input(\"Enter a string to reverse: \")\n",
        "\n",
        "# Reverse the string and display the result\n",
        "result = reverse_string(user_input)\n",
        "print(\"Reversed string:\", result)\n"
      ],
      "metadata": {
        "colab": {
          "base_uri": "https://localhost:8080/"
        },
        "id": "-7b3yvi9POsk",
        "outputId": "b942116a-91d4-4fc0-e1f9-5dce273d92e8"
      },
      "execution_count": 35,
      "outputs": [
        {
          "output_type": "stream",
          "name": "stdout",
          "text": [
            "Enter a string to reverse: 5\n",
            "Reversed string: 5\n"
          ]
        }
      ]
    },
    {
      "cell_type": "markdown",
      "source": [
        "15. Write a Python program to calculate the factorial of a number provided by the user using a while loop."
      ],
      "metadata": {
        "id": "kSh7tHxmPaUN"
      }
    },
    {
      "cell_type": "code",
      "source": [
        "# Function to calculate the factorial using a while loop\n",
        "def calculate_factorial(number):\n",
        "    factorial = 1\n",
        "    # Ensure the number is non-negative\n",
        "    if number < 0:\n",
        "        return \"Factorial is not defined for negative numbers\"\n",
        "\n",
        "    # Use while loop to calculate factorial\n",
        "    while number > 1:\n",
        "        factorial *= number\n",
        "        number -= 1  # Decrease the number by 1 in each iteration\n",
        "\n",
        "    return factorial\n",
        "\n",
        "# Take input from the user\n",
        "user_input = int(input(\"Enter a number to calculate its factorial: \"))\n",
        "\n",
        "# Calculate and display the factorial\n",
        "result = calculate_factorial(user_input)\n",
        "print(f\"The factorial is: {result}\")\n"
      ],
      "metadata": {
        "colab": {
          "base_uri": "https://localhost:8080/"
        },
        "id": "YaFxphaoPeZd",
        "outputId": "a60b3df2-aa6b-4966-ea08-800bca09ad42"
      },
      "execution_count": 37,
      "outputs": [
        {
          "output_type": "stream",
          "name": "stdout",
          "text": [
            "Enter a number to calculate its factorial: 5\n",
            "The factorial is: 120\n"
          ]
        }
      ]
    }
  ]
}